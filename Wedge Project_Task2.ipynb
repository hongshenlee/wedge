{
 "cells": [
  {
   "cell_type": "markdown",
   "metadata": {},
   "source": [
    "# Task2 A Sample of Owners\n",
    "\n",
    "A python script that handles the following tasks: \n",
    "1.\tConnects to your GBQ instance.\n",
    "2.\tBuilds a list of owners. \n",
    "3.\tTakes a sample of the owners. \n",
    "4.\tExtracts all records associated with those owners and writes them to a local text file. \n",
    "\n",
    "**Notes: Final Sample files are uploaded into the GBQ, access [here](https://console.cloud.google.com/bigquery?project=hong-wedge&p=hong-wedge&d=transactions&t=sample_owners_records&page=table)!**"
   ]
  },
  {
   "cell_type": "code",
   "execution_count": 4,
   "metadata": {},
   "outputs": [],
   "source": [
    "import os\n",
    "import io\n",
    "import csv\n",
    "from zipfile import ZipFile\n",
    "\n",
    "from google.cloud import bigquery\n",
    "from google.oauth2 import service_account"
   ]
  },
  {
   "cell_type": "markdown",
   "metadata": {},
   "source": [
    "## Connects to GBQ instance.\n"
   ]
  },
  {
   "cell_type": "code",
   "execution_count": 5,
   "metadata": {},
   "outputs": [],
   "source": [
    "# GBQ Setting\n",
    "service_path = \"./\"\n",
    "service_file = 'Hong-Wedge-8a5b036bb32c.json' \n",
    "gbq_proj_id = 'hong-wedge' \n",
    "\n",
    "private_key =service_path + service_file\n",
    "credentials = service_account.Credentials.from_service_account_file(service_path + service_file)\n",
    "client = bigquery.Client(credentials = credentials, project=gbq_proj_id)"
   ]
  },
  {
   "cell_type": "markdown",
   "metadata": {},
   "source": [
    "## Builds a list of owners. \n",
    "This step search all of the owners in the records except for `card_no=3`. To achieve this, make use of the GBQ ability of [Querying multiple tables using a wildcard table](https://cloud.google.com/bigquery/docs/querying-wildcard-tables)\n"
   ]
  },
  {
   "cell_type": "code",
   "execution_count": 19,
   "metadata": {},
   "outputs": [
    {
     "name": "stdout",
     "output_type": "stream",
     "text": [
      "We have total 27207 owners\n"
     ]
    }
   ],
   "source": [
    "query = (\n",
    "    \"SELECT distinct card_no \"\n",
    "    \"FROM `hong-wedge.transactions.transArchive_*` \"\n",
    "    \"WHERE card_no != 3 \"\n",
    ")\n",
    "query_job = client.query(\n",
    "    query,\n",
    "    location=\"US\",\n",
    ")\n",
    "\n",
    "owners=[]\n",
    "for idx, row in enumerate(query_job) :\n",
    "    owners.append(row[0])\n",
    "    \n",
    "print(f\"We have total {len(owners)} owners\")"
   ]
  },
  {
   "cell_type": "markdown",
   "metadata": {},
   "source": [
    "## Takes a sample of the owners.\n"
   ]
  },
  {
   "cell_type": "code",
   "execution_count": null,
   "metadata": {
    "scrolled": true
   },
   "outputs": [],
   "source": [
    "import random\n",
    "random.seed(len(owners))\n",
    "sample_owners= random.sample(owners,500)\n",
    "sample_owners =[str(owner) for owner in sample_owners]\n",
    "sample_owners_str=\",\".join(sample_owners)"
   ]
  },
  {
   "cell_type": "markdown",
   "metadata": {},
   "source": [
    "## Extracts all records "
   ]
  },
  {
   "cell_type": "code",
   "execution_count": 51,
   "metadata": {},
   "outputs": [],
   "source": [
    "sample_owner_list_str=\",\".join(sample_owners)\n",
    "query = (\n",
    "    \"SELECT * \"\n",
    "    \"FROM `hong-wedge.transactions.transArchive_*` \"\n",
    "    \"WHERE card_no in (\"+ sample_owners_str +\")\"\n",
    ")\n",
    "query_job = client.query(\n",
    "    query,\n",
    "    location=\"US\",\n",
    ")\n",
    "\n",
    "fields= [\"datetime\",\"register_no\",\"emp_no\",\"trans_no\",\"upc\",\"description\",\"trans_type\",\"trans_subtype\",\"trans_status\",\"department\"\n",
    "         ,\"quantity\",\"scale\",\"cost\",\"unitPrice\",\"total\",\"regPrice\",\"altPrice\",\"tax\",\"taxexempt\",\"foodstamp\",\"wicable\",\"discount\"\n",
    "         ,\"memDiscount\",\"discountable\",\"discounttype\",\"voided\",\"percentDiscount\",\"ItemQtty\",\"volDiscType\",\"volume\",\"VolSpecial\"\n",
    "         ,\"mixMatch\",\"matched\",\"memType\",\"staff\",\"numflag\",\"itemstatus\",\"tenderstatus\",\"charflag\",\"varflag\",\"batchHeaderID\",\"local\"\n",
    "         ,\"organic\",\"display\",\"receipt\",\"card_no\",\"store\",\"branch\",\"branch\",\"trans_id\"]\n",
    "\n",
    "with open(\"sample_owners_records.csv\", \"w\",encoding=\"utf-8\") as text_file:\n",
    "    text_file.write(\",\".join(fields)+\"\\n\")\n",
    "    for idx, row in enumerate(query_job) :\n",
    "        text_file.write(\"\\t\".join([str(item) for item in row]) + \"\\n\") #tersely print  "
   ]
  }
 ],
 "metadata": {
  "kernelspec": {
   "display_name": "Python 3",
   "language": "python",
   "name": "python3"
  },
  "language_info": {
   "codemirror_mode": {
    "name": "ipython",
    "version": 3
   },
   "file_extension": ".py",
   "mimetype": "text/x-python",
   "name": "python",
   "nbconvert_exporter": "python",
   "pygments_lexer": "ipython3",
   "version": "3.8.3"
  }
 },
 "nbformat": 4,
 "nbformat_minor": 4
}
